{
 "cells": [
  {
   "cell_type": "markdown",
   "metadata": {},
   "source": [
    "# Fuzzy Tsukamoto dan Mamdani"
   ]
  },
  {
   "cell_type": "markdown",
   "metadata": {},
   "source": [
    "## Import Library yang dibutuhkan"
   ]
  },
  {
   "cell_type": "code",
   "execution_count": 1,
   "metadata": {},
   "outputs": [],
   "source": [
    "import pandas as pd\n",
    "import json\n",
    "from collections import defaultdict\n",
    "from scipy.integrate import quad"
   ]
  },
  {
   "cell_type": "markdown",
   "metadata": {},
   "source": [
    "## Penentuan himpunan fuzzy"
   ]
  },
  {
   "cell_type": "code",
   "execution_count": 2,
   "metadata": {},
   "outputs": [
    {
     "name": "stdout",
     "output_type": "stream",
     "text": [
      "Data produksi benih \n",
      "\n",
      "         luas_lahan  benih_sumber  jumlah_pupuk  hasil_produksi\n",
      "banyak            8           320          4800           30000\n",
      "sedikit           5           200          3000           17500\n"
     ]
    }
   ],
   "source": [
    "#nama file data latih ditulis disini\n",
    "df = pd.read_csv('DataProduksiBenih_Penghujan_New.csv')\n",
    "\n",
    "# print(df.loc[0]) untuk cari data csv nya by row\n",
    "\n",
    "data = {\n",
    "    \"luas_lahan\": {\n",
    "        \"banyak\": max(df.luas_lahan),\n",
    "        \"sedikit\": min(df.luas_lahan),\n",
    "    },\n",
    "    \"benih_sumber\": {\n",
    "        \"banyak\": max(df.benih_sumber),\n",
    "        \"sedikit\": min(df.benih_sumber),\n",
    "    },\n",
    "    \"jumlah_pupuk\": {\n",
    "        \"banyak\": max(df.jumlah_pupuk),\n",
    "        \"sedikit\": min(df.jumlah_pupuk),\n",
    "    },\n",
    "    \"hasil_produksi\": {\n",
    "        \"banyak\": max(df.hasil_produksi),\n",
    "        \"sedikit\": min(df.hasil_produksi)\n",
    "    }\n",
    "}\n",
    "\n",
    "test = pd.DataFrame(data)\n",
    "\n",
    "print(\"Data produksi benih \\n\")\n",
    "print(test)\n"
   ]
  },
  {
   "cell_type": "markdown",
   "metadata": {},
   "source": [
    "## Data uji yang digunakan"
   ]
  },
  {
   "cell_type": "code",
   "execution_count": 3,
   "metadata": {
    "scrolled": true
   },
   "outputs": [
    {
     "name": "stdout",
     "output_type": "stream",
     "text": [
      "Data uji pada sistem\n",
      "\n",
      "   luas_lahan  benih_sumber  jumlah_pupuk\n",
      "1           7           280          4200\n",
      "2           7           280          4200\n"
     ]
    }
   ],
   "source": [
    "kolom_uji = ['luas_lahan', 'benih_sumber', 'jumlah_pupuk']\n",
    "\n",
    "#nama file data uji ditulis disini\n",
    "file = \"DataUji.csv\"\n",
    "\n",
    "data_uji = pd.read_csv(file, skipinitialspace=True, usecols=kolom_uji)\n",
    "data_uji.index += 1 \n",
    "\n",
    "kolom_uji = ['hasil_produksi']\n",
    "hasil_produksi = pd.read_csv(file, skipinitialspace=True, usecols=kolom_uji)\n",
    "hasil_produksi.index += 1 \n",
    "\n",
    "print(\"Data uji pada sistem\\n\")\n",
    "print(data_uji)"
   ]
  },
  {
   "cell_type": "markdown",
   "metadata": {},
   "source": [
    "## Fuzzifikasi derajat keanggotaan "
   ]
  },
  {
   "cell_type": "code",
   "execution_count": 4,
   "metadata": {},
   "outputs": [],
   "source": [
    "def banyak(b,a,x):\n",
    "    if(x<=a):\n",
    "        nilai = 0\n",
    "    elif(x>a and x<b):\n",
    "        nilai = (x-a)/(b-a)\n",
    "    elif(x>=b):\n",
    "        nilai = 1\n",
    "\n",
    "    return nilai"
   ]
  },
  {
   "cell_type": "code",
   "execution_count": 5,
   "metadata": {},
   "outputs": [],
   "source": [
    "def sedikit(b,a,x):\n",
    "    if(x<=a):\n",
    "        nilai = 1\n",
    "    elif(x>a and x<b):\n",
    "        nilai = (b-x)/(b-a)\n",
    "    elif(x>=b):\n",
    "        nilai = 0\n",
    "\n",
    "    return nilai"
   ]
  },
  {
   "cell_type": "code",
   "execution_count": 6,
   "metadata": {},
   "outputs": [
    {
     "name": "stdout",
     "output_type": "stream",
     "text": [
      "Hasil fuzzifikasi derajat keanggotaan data uji ke 1 \n",
      "\n",
      "                banyak   sedikit\n",
      "luas_lahan    0.666667  0.333333\n",
      "benih_sumber  0.666667  0.333333\n",
      "jumlah_pupuk  0.666667  0.333333\n",
      "\n",
      "\n",
      "Hasil fuzzifikasi derajat keanggotaan data uji ke 2 \n",
      "\n",
      "                banyak   sedikit\n",
      "luas_lahan    0.666667  0.333333\n",
      "benih_sumber  0.666667  0.333333\n",
      "jumlah_pupuk  0.666667  0.333333\n",
      "\n",
      "\n"
     ]
    }
   ],
   "source": [
    "fuzz_luas_lahan = defaultdict(dict)\n",
    "fuzz_benih_sumber = defaultdict(dict)\n",
    "fuzz_jumlah_pupuk = defaultdict(dict)\n",
    "\n",
    "for x in range(len(data_uji)):\n",
    "    x += 1\n",
    "    #Penyimpanan Data, gunakan var ini untuk fuzzifikasi\n",
    "    fuzz_luas_lahan[x][\"banyak\"] = banyak(data[\"luas_lahan\"][\"banyak\"],data[\"luas_lahan\"][\"sedikit\"],data_uji.loc[x].luas_lahan)\n",
    "    fuzz_luas_lahan[x][\"sedikit\"] = sedikit(data[\"luas_lahan\"][\"banyak\"],data[\"luas_lahan\"][\"sedikit\"],data_uji.loc[x].luas_lahan)\n",
    "    \n",
    "    fuzz_benih_sumber[x][\"banyak\"] = banyak(data[\"benih_sumber\"][\"banyak\"],data[\"benih_sumber\"][\"sedikit\"],data_uji.loc[x].benih_sumber)\n",
    "    fuzz_benih_sumber[x][\"sedikit\"] = sedikit(data[\"benih_sumber\"][\"banyak\"],data[\"benih_sumber\"][\"sedikit\"],data_uji.loc[x].benih_sumber)\n",
    "    \n",
    "    fuzz_jumlah_pupuk[x][\"banyak\"] = banyak(data[\"jumlah_pupuk\"][\"banyak\"],data[\"jumlah_pupuk\"][\"sedikit\"],data_uji.loc[x].jumlah_pupuk)\n",
    "    fuzz_jumlah_pupuk[x][\"sedikit\"] = sedikit(data[\"jumlah_pupuk\"][\"banyak\"],data[\"jumlah_pupuk\"][\"sedikit\"],data_uji.loc[x].jumlah_pupuk)\n",
    "    \n",
    "    fuzz_raw = {\n",
    "        \"banyak\": {\n",
    "            \"luas_lahan\": fuzz_luas_lahan[x][\"banyak\"],\n",
    "            \"benih_sumber\": fuzz_benih_sumber[x][\"banyak\"],\n",
    "            \"jumlah_pupuk\": fuzz_jumlah_pupuk[x][\"banyak\"]\n",
    "        },\n",
    "        \"sedikit\": {\n",
    "            \"luas_lahan\": fuzz_luas_lahan[x][\"sedikit\"],\n",
    "            \"benih_sumber\": fuzz_benih_sumber[x][\"sedikit\"],\n",
    "            \"jumlah_pupuk\": fuzz_jumlah_pupuk[x][\"sedikit\"]\n",
    "        }\n",
    "    }\n",
    "    print(\"Hasil fuzzifikasi derajat keanggotaan data uji ke\",x,\"\\n\")\n",
    "    print(pd.DataFrame(fuzz_raw))\n",
    "    print(\"\\n\")\n"
   ]
  },
  {
   "cell_type": "markdown",
   "metadata": {},
   "source": [
    "## Fungsi Implikasi Inferensi Aturan"
   ]
  },
  {
   "cell_type": "markdown",
   "metadata": {},
   "source": [
    "#### [R1] IF luas lahan sedikit AND jumlah sumber benih sedikit AND jumlah pupuk sedikit THEN hasil produksi benih sedikit\n",
    "#### [R2] IF luas lahan sedikit AND jumlah sumber benih banyak AND jumlah pupuk banyak THEN hasil produksi benih sedikit\n",
    "#### [R3] IF luas lahan sedikit AND jumlah sumber benih banyak AND jumlah pupuk sedikit THEN hasil produksi benih sedikit\n",
    "#### [R4] IF luas lahan banyak AND jumlah sumber benih sedikit AND jumlah pupuk banyak THEN hasil produksi benih banyak\n",
    "#### [R5] IF luas lahan banyak AND jumlah sumber benih sedikit AND jumlah pupuk sedikit THEN hasil produksi benih banyak\n",
    "#### [R6] IF luas lahan banyak AND jumlah sumber benih banyak AND jumlah pupuk banyak THEN hasil produksi benih banyak"
   ]
  },
  {
   "cell_type": "code",
   "execution_count": 7,
   "metadata": {},
   "outputs": [
    {
     "name": "stdout",
     "output_type": "stream",
     "text": [
      "Tabel kebenaran berdasarkan aturan \n",
      "\n",
      "  luas_lahan benih_sumber jumlah_pupuk hasil_produksi\n",
      "1    sedikit      sedikit      sedikit        sedikit\n",
      "2    sedikit       banyak       banyak        sedikit\n",
      "3    sedikit       banyak      sedikit        sedikit\n",
      "4     banyak      sedikit       banyak         banyak\n",
      "5     banyak      sedikit      sedikit         banyak\n",
      "6     banyak       banyak       banyak         banyak\n"
     ]
    }
   ],
   "source": [
    "#panjang aturan berdasarkan isi list\n",
    "# contoh -> [rule1, rule2, ... , rule6]\n",
    "\n",
    "aturan_raw = {\n",
    "    \"luas_lahan\":[\"sedikit\",\"sedikit\",\"sedikit\",\"banyak\",\"banyak\",\"banyak\"],\n",
    "    \"benih_sumber\": [\"sedikit\",\"banyak\",\"banyak\",\"sedikit\",\"sedikit\",\"banyak\"],\n",
    "    \"jumlah_pupuk\": [\"sedikit\",\"banyak\",\"sedikit\",\"banyak\",\"sedikit\",\"banyak\"],\n",
    "    \"hasil_produksi\": [\"sedikit\",\"sedikit\",\"sedikit\",\"banyak\",\"banyak\",\"banyak\"]\n",
    "}\n",
    "\n",
    "aturan = pd.DataFrame(aturan_raw)\n",
    "aturan.index += 1 \n",
    "\n",
    "print(\"Tabel kebenaran berdasarkan aturan \\n\")\n",
    "print(aturan)"
   ]
  },
  {
   "cell_type": "code",
   "execution_count": 8,
   "metadata": {},
   "outputs": [],
   "source": [
    "def agregasi_naik(b,a,alfa):\n",
    "    nilai = alfa*(b-a) + a\n",
    "    return nilai"
   ]
  },
  {
   "cell_type": "code",
   "execution_count": 9,
   "metadata": {},
   "outputs": [],
   "source": [
    "def agregasi_turun(b,a,alfa):\n",
    "    nilai = b - (alfa*(b-a))\n",
    "    return nilai"
   ]
  },
  {
   "cell_type": "markdown",
   "metadata": {},
   "source": [
    "## Menentukan nilai alpha dan z"
   ]
  },
  {
   "cell_type": "code",
   "execution_count": 10,
   "metadata": {},
   "outputs": [],
   "source": [
    "alpha_sedikit = defaultdict(list)\n",
    "alpha_banyak = defaultdict(list)\n",
    "\n",
    "alpha = defaultdict(list)\n",
    "z = defaultdict(list)\n",
    "\n",
    "for i in range(len(data_uji)):\n",
    "    i += 1\n",
    "    for j in range(len(aturan)):\n",
    "        j += 1\n",
    "        #print(i,j)\n",
    "\n",
    "        kondisi1 = aturan.loc[j].luas_lahan\n",
    "        kondisi2 = aturan.loc[j].benih_sumber\n",
    "        kondisi3 = aturan.loc[j].jumlah_pupuk\n",
    "        kondisi4 = aturan.loc[j].hasil_produksi\n",
    "        \n",
    "        alpha_temp = min(fuzz_luas_lahan[i][kondisi1], fuzz_benih_sumber[i][kondisi2], fuzz_jumlah_pupuk[i][kondisi3])\n",
    "        alpha[i].append(alpha_temp)\n",
    "        \n",
    "        if(kondisi4 == \"banyak\"):\n",
    "            z_temp = agregasi_naik(data[\"hasil_produksi\"][\"banyak\"], data[\"hasil_produksi\"][\"sedikit\"], alpha_temp)\n",
    "            alpha_banyak[i].append(alpha_temp)\n",
    "        elif(kondisi4 == \"sedikit\"):\n",
    "            z_temp = agregasi_turun(data[\"hasil_produksi\"][\"banyak\"], data[\"hasil_produksi\"][\"sedikit\"], alpha_temp)\n",
    "            alpha_sedikit[i].append(alpha_temp)\n",
    "            \n",
    "        z[i].append(z_temp)\n",
    "        #print(alpha_temp, z_temp)\n",
    "    #print(\"\\n\")"
   ]
  },
  {
   "cell_type": "code",
   "execution_count": 11,
   "metadata": {},
   "outputs": [
    {
     "name": "stdout",
     "output_type": "stream",
     "text": [
      "Tabel nilai alpha dan Z pada data uji ke - 1\n",
      "   nilai_alpha       nilai_z\n",
      "1     0.333333  25833.333333\n",
      "2     0.333333  25833.333333\n",
      "3     0.333333  25833.333333\n",
      "4     0.333333  21666.666667\n",
      "5     0.333333  21666.666667\n",
      "6     0.666667  25833.333333 \n",
      "\n",
      "Tabel nilai alpha dan Z pada data uji ke - 2\n",
      "   nilai_alpha       nilai_z\n",
      "1     0.333333  25833.333333\n",
      "2     0.333333  25833.333333\n",
      "3     0.333333  25833.333333\n",
      "4     0.333333  21666.666667\n",
      "5     0.333333  21666.666667\n",
      "6     0.666667  25833.333333 \n",
      "\n"
     ]
    }
   ],
   "source": [
    "for x in range(len(data_uji)):\n",
    "    x += 1\n",
    "    data_alpha_z = {\n",
    "        \"nilai_alpha\": alpha[x],\n",
    "        \"nilai_z\": z[x]\n",
    "    }\n",
    "    draw_alpha_z = pd.DataFrame(data_alpha_z)\n",
    "    draw_alpha_z.index += 1\n",
    "    print(\"Tabel nilai alpha dan Z pada data uji ke -\",x)\n",
    "    print(draw_alpha_z, \"\\n\")"
   ]
  },
  {
   "cell_type": "markdown",
   "metadata": {},
   "source": [
    "## Komposisi aturan untuk perhitungan mamdani"
   ]
  },
  {
   "cell_type": "code",
   "execution_count": 12,
   "metadata": {},
   "outputs": [],
   "source": [
    "def komposisiAturan(x, y):\n",
    "    komposisi={\n",
    "        \"a1\": agregasi_naik(data[\"hasil_produksi\"][\"banyak\"], data[\"hasil_produksi\"][\"sedikit\"], x),\n",
    "        \"a2\": agregasi_naik(data[\"hasil_produksi\"][\"banyak\"], data[\"hasil_produksi\"][\"sedikit\"], y)\n",
    "    }\n",
    "    return komposisi"
   ]
  },
  {
   "cell_type": "code",
   "execution_count": 13,
   "metadata": {},
   "outputs": [
    {
     "name": "stdout",
     "output_type": "stream",
     "text": [
      "      a_min     a_max            a1            a2\n",
      "1  0.333333  0.666667  21666.666667  25833.333333\n",
      "2  0.333333  0.666667  21666.666667  25833.333333\n"
     ]
    }
   ],
   "source": [
    "a_min = []\n",
    "a_max = []\n",
    "komposisi_a1 = []\n",
    "komposisi_a2 = []\n",
    "\n",
    "#komposisi = komposisiAturan(a_min, a_max)\n",
    "\n",
    "for x in range(len(data_uji)):\n",
    "    x += 1\n",
    "    \n",
    "    a_min.append(max(alpha_sedikit[x]))\n",
    "    a_max.append(max(alpha_banyak[x]))\n",
    "    \n",
    "    komposisi_temp = komposisiAturan(a_min[x-1], a_max[x-1])\n",
    "    \n",
    "    komposisi_a1.append(komposisi_temp[\"a1\"])\n",
    "    komposisi_a2.append(komposisi_temp[\"a2\"])\n",
    "\n",
    "komposisi_raw = {\n",
    "    \"a_min\": a_min,\n",
    "    \"a_max\": a_max,\n",
    "    \"a1\": komposisi_a1,\n",
    "    \"a2\": komposisi_a2\n",
    "}\n",
    "\n",
    "draw_komposisi = pd.DataFrame(komposisi_raw)\n",
    "draw_komposisi.index += 1\n",
    "\n",
    "print(draw_komposisi)"
   ]
  },
  {
   "cell_type": "markdown",
   "metadata": {},
   "source": [
    "## Defuzzifikasi Tsukamoto"
   ]
  },
  {
   "cell_type": "code",
   "execution_count": 14,
   "metadata": {},
   "outputs": [],
   "source": [
    "defuzz_tsukamoto = []\n",
    "\n",
    "for i in range(len(data_uji)):\n",
    "    i += 1\n",
    "    defuzz_sum = 0\n",
    "    \n",
    "    for j in range(len(alpha[1])):\n",
    "        defuzz_sum += alpha[i][j]*z[i][j]\n",
    "    \n",
    "    result_tsukamoto = int(defuzz_sum/sum(alpha[i]))\n",
    "    defuzz_tsukamoto.append(result_tsukamoto)"
   ]
  },
  {
   "cell_type": "markdown",
   "metadata": {},
   "source": [
    "## Defuzzifikasi Mamdani"
   ]
  },
  {
   "cell_type": "markdown",
   "metadata": {},
   "source": [
    "### Mencari Nilai Momen"
   ]
  },
  {
   "cell_type": "code",
   "execution_count": 15,
   "metadata": {},
   "outputs": [],
   "source": [
    "def nilaiMomen(m_a_min, m_a_max, m_a1, m_a2):\n",
    "    momen = []\n",
    "    if(m_a1 < m_a2):\n",
    "        #Momen 1, f1 persamaan integral, a1 merupakan variable\n",
    "        f1 = lambda z1,a1 : a1*z1\n",
    "        a1 = m_a_min\n",
    "        m1 = quad(f1, 0, m_a1, args=(a1))\n",
    "        momen.append(m1[0])\n",
    "\n",
    "        #Momen 2, f2 persamaan integral, a2 dan b2 merupakan variable\n",
    "        f2 = lambda z2,a2,b2 : (z2-a2)/b2*z2\n",
    "        a2 = data[\"hasil_produksi\"][\"sedikit\"]\n",
    "        b2 = data[\"hasil_produksi\"][\"banyak\"]-data[\"hasil_produksi\"][\"sedikit\"]\n",
    "        m2 = quad(f2, m_a1, m_a2, args=(a2,b2))\n",
    "        momen.append(m2[0])\n",
    "\n",
    "        #Momen 3, f3 persamaan integral, a3 merupakan variable\n",
    "        f3 = lambda z3,a3 : a3*z3\n",
    "        a3 = m_a_max\n",
    "        m3 = quad(f3, m_a2, data[\"hasil_produksi\"][\"banyak\"], args=(a3))\n",
    "        momen.append(m3[0])\n",
    "    else:\n",
    "        #Momen 1, f1 persamaan integral, a1 merupakan variable\n",
    "        f1 = lambda z1,a1 : a1*z1\n",
    "        a1 = m_a_min\n",
    "        m1 = quad(f1, 0, m_a2, args=(a1))\n",
    "        momen.append(m1[0])\n",
    "\n",
    "        #Momen 2, f2 persamaan integral, a2 dan b2 merupakan variable\n",
    "        f2 = lambda z2,a2,b2 : (z2-a2)/b2*z2\n",
    "        a2 = data[\"hasil_produksi\"][\"sedikit\"]\n",
    "        b2 = data[\"hasil_produksi\"][\"banyak\"]-data[\"hasil_produksi\"][\"sedikit\"]\n",
    "        m2 = quad(f2, m_a2, m_a1, args=(a2,b2))\n",
    "        momen.append(m2[0])\n",
    "\n",
    "        #Momen 3, f3 persamaan integral, a3 merupakan variable\n",
    "        f3 = lambda z3,a3 : a3*z3\n",
    "        a3 = m_a_max\n",
    "        m3 = quad(f3, m_a1, data[\"hasil_produksi\"][\"banyak\"], args=(a3))\n",
    "        momen.append(m3[0])\n",
    "    return momen"
   ]
  },
  {
   "cell_type": "markdown",
   "metadata": {},
   "source": [
    "### Mencari Nilai Luas"
   ]
  },
  {
   "cell_type": "code",
   "execution_count": 16,
   "metadata": {},
   "outputs": [],
   "source": [
    "def nilaiLuas(l_a_min,l_a_max,l_a1,l_a2):\n",
    "    luas = []\n",
    "    if(l_a1 < l_a2):\n",
    "        luas.append(l_a1*l_a_min)\n",
    "        luas.append((l_a_min+l_a_max)*((l_a2-l_a1)/2))\n",
    "        luas.append((data[\"hasil_produksi\"][\"banyak\"]-l_a2)*l_a_max)\n",
    "    else:\n",
    "        luas.append(l_a2*l_a_min)\n",
    "        luas.append((l_a_min+l_a_max)*((l_a1-l_a2)/2))\n",
    "        luas.append((data[\"hasil_produksi\"][\"banyak\"]-l_a1)*l_a_max)\n",
    "    return luas"
   ]
  },
  {
   "cell_type": "code",
   "execution_count": 17,
   "metadata": {},
   "outputs": [],
   "source": [
    "#print(a_max)\n",
    "defuzz_mamdani = []\n",
    "for x in range(len(data_uji)):\n",
    "    test1 = a_min[x]\n",
    "    test2 = a_max[x]\n",
    "    \n",
    "    momen = nilaiMomen(a_min[x], a_max[x], komposisi_a1[x], komposisi_a2[x])\n",
    "    luas = nilaiLuas(a_min[x], a_max[x], komposisi_a1[x], komposisi_a2[x])\n",
    "    #print(momen,luas)\n",
    "    #print(luas)\n",
    "    result_mamdani = int(sum(momen)/sum(luas))\n",
    "    defuzz_mamdani.append(result_mamdani)\n",
    "    #print(result_mamdani)\n",
    "    #print(\"\\n\")"
   ]
  },
  {
   "cell_type": "markdown",
   "metadata": {},
   "source": [
    "## Hasil Prediksi"
   ]
  },
  {
   "cell_type": "code",
   "execution_count": 18,
   "metadata": {},
   "outputs": [
    {
     "name": "stdout",
     "output_type": "stream",
     "text": [
      "   luas_lahan  benih_sumber  jumlah_pupuk  jumlah_produksi  \\\n",
      "1           7           280          4200            25585   \n",
      "2           7           280          4200            25660   \n",
      "\n",
      "   prediksi_tsukamoto  prediksi_mamdani  \n",
      "1               24642             17027  \n",
      "2               24642             17027  \n"
     ]
    }
   ],
   "source": [
    "data_prediksi = {\n",
    "    \"luas_lahan\": data_uji.luas_lahan,\n",
    "    \"benih_sumber\": data_uji.benih_sumber,\n",
    "    \"jumlah_pupuk\": data_uji.jumlah_pupuk,\n",
    "    \"jumlah_produksi\": hasil_produksi.hasil_produksi,\n",
    "    \"prediksi_tsukamoto\": defuzz_tsukamoto,\n",
    "    \"prediksi_mamdani\": defuzz_mamdani\n",
    "}\n",
    "\n",
    "#print(data_prediksi)\n",
    "hasil_prediksi = pd.DataFrame(data_prediksi)\n",
    "print(hasil_prediksi)"
   ]
  },
  {
   "cell_type": "markdown",
   "metadata": {},
   "source": [
    "## Perhitungan MAPE (Mean Absolute Percentage Error)"
   ]
  },
  {
   "cell_type": "code",
   "execution_count": 19,
   "metadata": {},
   "outputs": [
    {
     "name": "stdout",
     "output_type": "stream",
     "text": [
      "Hasil Perhitungan MAPE Tsukamoto : 3.83 %\n",
      "Hasil Perhitungan MAPE Mamdani : 33.55 %\n"
     ]
    }
   ],
   "source": [
    "#print(hasil_produksi)\n",
    "mape_tsukamoto = 0\n",
    "mape_mamdani = 0\n",
    "temp_tsukamoto = 0\n",
    "temp_mamdani = 0\n",
    "\n",
    "i = 0\n",
    "\n",
    "for x in hasil_produksi.hasil_produksi:\n",
    "    temp_tsukamoto += (x - defuzz_tsukamoto[i])/x\n",
    "    temp_mamdani += (x - defuzz_mamdani[i])/x\n",
    "    i += 1\n",
    "\n",
    "mape_tsukamoto = abs(temp_tsukamoto)*100/len(hasil_produksi)\n",
    "print(\"Hasil Perhitungan MAPE Tsukamoto :\",round(mape_tsukamoto,2),\"%\")\n",
    "\n",
    "mape_mamdani = abs(temp_mamdani)*100/len(hasil_produksi)\n",
    "print(\"Hasil Perhitungan MAPE Mamdani :\",round(mape_mamdani,2),\"%\")"
   ]
  },
  {
   "cell_type": "code",
   "execution_count": null,
   "metadata": {
    "scrolled": true
   },
   "outputs": [],
   "source": []
  }
 ],
 "metadata": {
  "kernelspec": {
   "display_name": "Python 3",
   "language": "python",
   "name": "python3"
  },
  "language_info": {
   "codemirror_mode": {
    "name": "ipython",
    "version": 3
   },
   "file_extension": ".py",
   "mimetype": "text/x-python",
   "name": "python",
   "nbconvert_exporter": "python",
   "pygments_lexer": "ipython3",
   "version": "3.7.6"
  }
 },
 "nbformat": 4,
 "nbformat_minor": 4
}
